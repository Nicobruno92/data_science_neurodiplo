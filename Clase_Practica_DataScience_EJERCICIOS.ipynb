{
  "cells": [
    {
      "cell_type": "markdown",
      "metadata": {
        "vscode": {
          "languageId": "raw"
        }
      },
      "source": [
        "# Clase Práctica de Data Science - Análisis de Estrés en Estudiantes\n",
        "#### Profesor: Mg. Joaquín Menedez  y Mg. Nicolás Bruno\n",
        "\n",
        "## Consigna\n",
        "En la clase de hoy van a realizar un **análisis completo de un set de datos sobre estilo de vida de estudiantes** para entender qué factores se relacionan con el estrés académico.\n",
        "\n",
        "Van a tener 3 horas para trabajar en este *practical lab* mientras nosotros respondemos sus dudas. El objetivo es que pongan en práctica todos los conceptos que vieron en los videos teóricos.\n",
        "\n",
        "## Dataset: Student Lifestyle & Stress\n",
        "\n",
        "EL dataset lo sacamos de kaggle:\n",
        "https://www.kaggle.com/datasets/steve1215rogg/student-lifestyle-dataset/data\n",
        "\n",
        "El dataset que vamos a analizar contiene información de 1000 estudiantes universitarios y incluye variables muy relevantes para la psicología:\n",
        "\n",
        "- **Study_Hours_Per_Day**: Horas de estudio por día\n",
        "- **Sleep_Hours_Per_Day**: Horas de sueño por día  \n",
        "- **Physical_Activity_Hours_Per_Day**: Horas de actividad física por día\n",
        "- **Social_Hours_Per_Day**: Horas de socialización por día\n",
        "- **Extracurricular_Hours_Per_Day**: Horas de actividades extracurriculares por día\n",
        "- **GPA**: Promedio académico\n",
        "- **Stress_Level**: Nivel de estrés (Low, Moderate, High)\n",
        "\n",
        "## Objetivos de la clase\n",
        "1. Cargar y explorar el dataset\n",
        "2. Realizar análisis descriptivo completo\n",
        "3. Crear visualizaciones informativas\n",
        "4. Analizar correlaciones entre variables\n",
        "5. Comparar grupos según nivel de estrés\n",
        "6. Aplicar pruebas estadísticas básicas\n",
        "7. Construir un modelo predictivo simple\n",
        "\n",
        "## Resolución\n",
        "Este notebook los va a ir guiando paso a paso. Encontrarán celdas de texto que explican qué hacer y celdas con código incompleto (**...**) que ustedes deberán completar.\n",
        "\n",
        "**¡Recuerden preguntar cualquier duda que tengan!**\n"
      ]
    },
    {
      "cell_type": "markdown",
      "metadata": {
        "vscode": {
          "languageId": "raw"
        }
      },
      "source": [
        "---\n"
      ]
    },
    {
      "cell_type": "markdown",
      "metadata": {
        "vscode": {
          "languageId": "raw"
        }
      },
      "source": [
        "## 1. Importar librerías necesarias\n",
        "\n",
        "Primero vamos a importar todas las librerías que vamos a necesitar para nuestro análisis.\n"
      ]
    },
    {
      "cell_type": "code",
      "execution_count": null,
      "metadata": {},
      "outputs": [],
      "source": [
        "# Librerías para manejo de datos\n",
        "import pandas as pd\n",
        "import numpy as np\n",
        "\n",
        "# Librerías para visualización\n",
        "import matplotlib.pyplot as plt\n",
        "import seaborn as sns\n",
        "\n",
        "# Librerías para estadística\n",
        "import scipy.stats as stats\n",
        "from statsmodels.formula.api import ols\n",
        "import statsmodels.api as sm\n",
        "\n",
        "# Para descargar el dataset\n",
        "!pip install kagglehub #para instalar kagglehub y poder descargar el dataset.\n",
        "import kagglehub\n",
        "\n",
        "# Configuración para que los gráficos se vean bien\n",
        "plt.style.use('default')\n",
        "sns.set_palette(\"husl\")\n",
        "plt.rcParams['figure.figsize'] = (10, 6)\n"
      ]
    },
    {
      "cell_type": "markdown",
      "metadata": {
        "vscode": {
          "languageId": "raw"
        }
      },
      "source": [
        "## 2. Cargar el dataset\n",
        "\n",
        "Vamos a descargar el dataset directamente desde Kaggle usando kagglehub. Esto nos permite trabajar en Google Colab sin tener que subir archivos manualmente.\n"
      ]
    },
    {
      "cell_type": "code",
      "execution_count": null,
      "metadata": {},
      "outputs": [],
      "source": [
        "# Descargar el dataset desde Kaggle\n",
        "path = kagglehub.dataset_download(\"steve1215rogg/student-lifestyle-dataset\")\n",
        "print(\"Path to dataset files:\", path)\n"
      ]
    },
    {
      "cell_type": "markdown",
      "metadata": {
        "vscode": {
          "languageId": "raw"
        }
      },
      "source": [
        "<div class=\"alert alert-success\">\n",
        "    <b>Ejercicio 1</b>:\n",
        "     <ul>\n",
        "    <li>Cargar el archivo CSV en un DataFrame de pandas</li>\n",
        "    <li>Asignar el DataFrame a la variable 'df'</li>\n",
        "    </ul>\n",
        "    <br>\n",
        "    <i>Tips</i>:\n",
        "    <ul>\n",
        "    <li><i>Usar pd.read_csv() para leer el archivo</i></li>\n",
        "    <li><i>El archivo se llama 'student_lifestyle_dataset.csv'</i></li>\n",
        "    <li><i>Usar path + '/student_lifestyle_dataset.csv' como ruta completa</i></li>\n",
        "    </ul>\n",
        "</div>\n"
      ]
    },
    {
      "cell_type": "code",
      "execution_count": null,
      "metadata": {},
      "outputs": [],
      "source": [
        "# Cargar el dataset\n",
        "df = pd.read_csv(...)\n"
      ]
    },
    {
      "cell_type": "markdown",
      "metadata": {
        "vscode": {
          "languageId": "raw"
        }
      },
      "source": [
        "## 3. Exploración inicial de los datos\n",
        "\n",
        "Ahora vamos a explorar nuestro dataset para entender qué información tenemos disponible.\n"
      ]
    },
    {
      "cell_type": "markdown",
      "metadata": {
        "vscode": {
          "languageId": "raw"
        }
      },
      "source": [
        "<div class=\"alert alert-success\">\n",
        "    <b>Ejercicio 2</b>:\n",
        "     <ul>\n",
        "    <li>Mostrar las primeras 5 filas del dataset</li>\n",
        "    <li>Mostrar información general del dataset (tipos de datos, valores nulos, etc.)</li>\n",
        "    <li>Mostrar las dimensiones del dataset (filas y columnas)</li>\n",
        "    </ul>\n",
        "    <br>\n",
        "    <i>Tips</i>:\n",
        "    <ul>\n",
        "    <li><i>Usar .head() para ver las primeras filas</i></li>\n",
        "    <li><i>Usar .info() para información general</i></li>\n",
        "    <li><i>Usar .shape para dimensiones</i></li>\n",
        "    </ul>\n",
        "</div>\n"
      ]
    },
    {
      "cell_type": "code",
      "execution_count": null,
      "metadata": {},
      "outputs": [],
      "source": [
        "# Mostrar las primeras filas\n",
        "print(\"Primeras 5 filas del dataset:\")\n",
        "...\n"
      ]
    },
    {
      "cell_type": "code",
      "execution_count": null,
      "metadata": {},
      "outputs": [],
      "source": [
        "# Información general del dataset\n",
        "print(\"Información general del dataset:\")\n",
        "...\n"
      ]
    },
    {
      "cell_type": "code",
      "execution_count": null,
      "metadata": {},
      "outputs": [],
      "source": [
        "# Dimensiones del dataset\n",
        "print(\"El dataset tiene\", ..., \"filas y\", ..., \"columnas\")\n"
      ]
    },
    {
      "cell_type": "markdown",
      "metadata": {
        "vscode": {
          "languageId": "raw"
        }
      },
      "source": [
        "### 3.1 Verificar valores faltantes\n",
        "\n",
        "Es importante siempre verificar si nuestro dataset tiene valores faltantes (NaN o null).\n"
      ]
    },
    {
      "cell_type": "code",
      "execution_count": null,
      "metadata": {},
      "outputs": [],
      "source": [
        "# Verificar valores faltantes\n",
        "print(\"Valores faltantes por columna:\")\n",
        "...\n"
      ]
    },
    {
      "cell_type": "markdown",
      "metadata": {
        "vscode": {
          "languageId": "raw"
        }
      },
      "source": [
        "## 4. Análisis Descriptivo\n",
        "\n",
        "Ahora vamos a calcular estadísticas descriptivas para entender mejor nuestros datos.\n"
      ]
    },
    {
      "cell_type": "markdown",
      "metadata": {
        "vscode": {
          "languageId": "raw"
        }
      },
      "source": [
        "<div class=\"alert alert-success\">\n",
        "    <b>Ejercicio 3</b>:\n",
        "     <ul>\n",
        "    <li>Calcular estadísticas descriptivas para todas las variables numéricas</li>\n",
        "    <li>Contar cuántos estudiantes hay en cada nivel de estrés</li>\n",
        "    </ul>\n",
        "    <br>\n",
        "    <i>Tips</i>:\n",
        "    <ul>\n",
        "    <li><i>Usar .describe() para estadísticas descriptivas</i></li>\n",
        "    <li><i>Usar .value_counts() para contar categorías</i></li>\n",
        "    </ul>\n",
        "</div>\n"
      ]
    },
    {
      "cell_type": "code",
      "execution_count": null,
      "metadata": {},
      "outputs": [],
      "source": [
        "# Estadísticas descriptivas de variables numéricas\n",
        "print(\"Estadísticas descriptivas:\")\n",
        "...\n"
      ]
    },
    {
      "cell_type": "code",
      "execution_count": null,
      "metadata": {},
      "outputs": [],
      "source": [
        "# Distribución de los niveles de estrés\n",
        "print(\"Distribución de niveles de estrés:\")\n",
        "...\n"
      ]
    },
    {
      "cell_type": "markdown",
      "metadata": {
        "vscode": {
          "languageId": "raw"
        }
      },
      "source": [
        "### 4.1 Análisis por grupos de estrés\n",
        "\n",
        "Vamos a ver cómo se comportan las diferentes variables según el nivel de estrés.\n"
      ]
    },
    {
      "cell_type": "markdown",
      "metadata": {
        "vscode": {
          "languageId": "raw"
        }
      },
      "source": [
        "<div class=\"alert alert-success\">\n",
        "    <b>Ejercicio 4</b>:\n",
        "     <ul>\n",
        "    <li>Calcular el promedio de todas las variables numéricas agrupadas por nivel de estrés</li>\n",
        "    </ul>\n",
        "    <br>\n",
        "    <i>Tips</i>:\n",
        "    <ul>\n",
        "    <li><i>Usar .groupby() con 'Stress_Level'</i></li>\n",
        "    <li><i>Usar .mean() para calcular promedios</i></li>\n",
        "    <li><i>Usar .round(2) para redondear a 2 decimales</i></li>\n",
        "    </ul>\n",
        "</div>\n"
      ]
    },
    {
      "cell_type": "code",
      "execution_count": null,
      "metadata": {},
      "outputs": [],
      "source": [
        "# Promedios por nivel de estrés\n",
        "print(\"Promedios por nivel de estrés:\")\n",
        "...\n"
      ]
    },
    {
      "cell_type": "markdown",
      "metadata": {
        "vscode": {
          "languageId": "raw"
        }
      },
      "source": [
        "## 5. Visualización de datos\n",
        "\n",
        "Las visualizaciones nos ayudan a entender mejor los patrones en nuestros datos. Vamos a crear varios gráficos para explorar las relaciones entre variables.\n"
      ]
    },
    {
      "cell_type": "markdown",
      "metadata": {
        "vscode": {
          "languageId": "raw"
        }
      },
      "source": [
        "### 5.1 Distribución del nivel de estrés\n"
      ]
    },
    {
      "cell_type": "code",
      "execution_count": null,
      "metadata": {},
      "outputs": [],
      "source": [
        "# Gráfico de barras para nivel de estrés\n",
        "plt.figure(figsize=(8, 6))\n",
        "stress_counts = ...\n",
        "plt.bar(stress_counts.index, stress_counts.values)\n",
        "plt.title('Distribución de Niveles de Estrés')\n",
        "plt.xlabel('Nivel de Estrés')\n",
        "plt.ylabel('Cantidad de Estudiantes')\n",
        "plt.show()\n"
      ]
    },
    {
      "cell_type": "markdown",
      "metadata": {
        "vscode": {
          "languageId": "raw"
        }
      },
      "source": [
        "### 5.2 Boxplots por nivel de estrés\n",
        "\n",
        "Los boxplots nos permiten comparar la distribución de variables continuas entre diferentes grupos.\n"
      ]
    },
    {
      "cell_type": "markdown",
      "metadata": {
        "vscode": {
          "languageId": "raw"
        }
      },
      "source": [
        "<div class=\"alert alert-success\">\n",
        "    <b>Ejercicio 5</b>:\n",
        "     <ul>\n",
        "    <li>Crear boxplots que muestren la distribución de 'Study_Hours_Per_Day' para cada nivel de estrés</li>\n",
        "    <li>Crear boxplots que muestren la distribución de 'Sleep_Hours_Per_Day' para cada nivel de estrés</li>\n",
        "    </ul>\n",
        "    <br>\n",
        "    <i>Tips</i>:\n",
        "    <ul>\n",
        "    <li><i>Usar sns.boxplot() con x='Stress_Level' y y=variable de interés</i></li>\n",
        "    <li><i>Usar plt.subplots() para crear 2 gráficos lado a lado</i></li>\n",
        "    </ul>\n",
        "</div>\n"
      ]
    },
    {
      "cell_type": "code",
      "execution_count": null,
      "metadata": {},
      "outputs": [],
      "source": [
        "# Boxplots comparando grupos de estrés\n",
        "fig, axes = plt.subplots(1, 2, figsize=(12, 5))\n",
        "\n",
        "# Boxplot para horas de estudio\n",
        "sns.boxplot(data=df, x='...', y='...', ax=axes[0])\n",
        "axes[0].set_title('...')\n",
        "\n",
        "# Boxplot para horas de sueño\n",
        "sns.boxplot(data=df, x='...', y='...', ax=axes[1])\n",
        "axes[1].set_title('...')\n",
        "\n",
        "plt.tight_layout()\n",
        "plt.show()\n"
      ]
    },
    {
      "cell_type": "markdown",
      "metadata": {
        "vscode": {
          "languageId": "raw"
        }
      },
      "source": [
        "## 6. Análisis de Correlaciones\n",
        "\n",
        "Vamos a explorar cómo se relacionan las diferentes variables entre sí.\n"
      ]
    },
    {
      "cell_type": "markdown",
      "metadata": {
        "vscode": {
          "languageId": "raw"
        }
      },
      "source": [
        "<div class=\"alert alert-success\">\n",
        "    <b>Ejercicio 6</b>:\n",
        "     <ul>\n",
        "    <li>Calcular la matriz de correlación para todas las variables numéricas</li>\n",
        "    <li>Crear un heatmap de la matriz de correlación</li>\n",
        "    </ul>\n",
        "    <br>\n",
        "    <i>Tips</i>:\n",
        "    <ul>\n",
        "    <li><i>Usar .corr() para calcular correlaciones</i></li>\n",
        "    <li><i>Usar sns.heatmap() para crear el mapa de calor</i></li>\n",
        "    <li><i>Usar annot=True para mostrar los valores en el heatmap</i></li>\n",
        "    </ul>\n",
        "</div>\n"
      ]
    },
    {
      "cell_type": "code",
      "execution_count": null,
      "metadata": {},
      "outputs": [],
      "source": [
        "# Seleccionar solo variables numéricas (excluir Student_ID y Stress_Level)\n",
        "numeric_vars = ['Study_Hours_Per_Day', 'Extracurricular_Hours_Per_Day', 'Sleep_Hours_Per_Day', \n",
        "                'Social_Hours_Per_Day', 'Physical_Activity_Hours_Per_Day', 'GPA']\n",
        "\n",
        "# Calcular matriz de correlación\n",
        "correlation_matrix = ...\n",
        "\n",
        "# Crear heatmap\n",
        "plt.figure(figsize=(10, 8))\n",
        "sns.heatmap(..., annot=..., cmap='...', center=0, square=True)\n",
        "plt.title('Matriz de Correlación entre Variables')\n",
        "plt.show()\n"
      ]
    },
    {
      "cell_type": "markdown",
      "metadata": {
        "vscode": {
          "languageId": "raw"
        }
      },
      "source": [
        "## 7. Comparación estadística entre grupos\n",
        "\n",
        "Vamos a realizar pruebas estadísticas para determinar si hay diferencias significativas entre estudiantes con diferentes niveles de estrés.\n"
      ]
    },
    {
      "cell_type": "markdown",
      "metadata": {
        "vscode": {
          "languageId": "raw"
        }
      },
      "source": [
        "<div class=\"alert alert-success\">\n",
        "    <b>Ejercicio 7</b>:\n",
        "     <ul>\n",
        "    <li>Crear dos grupos: estudiantes con estrés 'High' y estudiantes con estrés 'Low'</li>\n",
        "    <li>Extraer las horas de estudio para cada grupo</li>\n",
        "    <li>Realizar una prueba t de Student para comparar los grupos</li>\n",
        "    </ul>\n",
        "    <br>\n",
        "    <i>Tips</i>:\n",
        "    <ul>\n",
        "    <li><i>Usar df[df['Stress_Level'] == 'High'] para filtrar</i></li>\n",
        "    <li><i>Usar stats.ttest_ind() para la prueba t</i></li>\n",
        "    </ul>\n",
        "</div>\n"
      ]
    },
    {
      "cell_type": "code",
      "execution_count": null,
      "metadata": {},
      "outputs": [],
      "source": [
        "# Separar grupos por nivel de estrés\n",
        "high_stress = df[df['Stress_Level'] == '...']['Study_Hours_Per_Day']\n",
        "low_stress = df[df['Stress_Level'] == '...']['Study_Hours_Per_Day']\n",
        "\n",
        "print(\"Estudiantes con estrés alto:\", len(high_stress))\n",
        "print(\"Estudiantes con estrés bajo:\", len(low_stress))\n",
        "print(\"Promedio horas de estudio - Estrés alto:\", round(high_stress.mean(), 2))\n",
        "print(\"Promedio horas de estudio - Estrés bajo:\", round(low_stress.mean(), 2))\n"
      ]
    },
    {
      "cell_type": "code",
      "execution_count": null,
      "metadata": {},
      "outputs": [],
      "source": [
        "# Realizar prueba t de Student\n",
        "t_stat, p_value = ...\n",
        "\n",
        "print(\"Prueba t de Student:\")\n",
        "print(\"Estadístico t:\", round(t_stat, 4))\n",
        "print(\"Valor p:\", round(p_value, 4))\n",
        "\n",
        "if p_value < 0.05:\n",
        "    print(\"\\n¡Hay una diferencia estadísticamente significativa! (p < 0.05)\")\n",
        "else:\n",
        "    print(\"\\nNo hay diferencia estadísticamente significativa (p >= 0.05)\")\n"
      ]
    },
    {
      "cell_type": "markdown",
      "metadata": {
        "vscode": {
          "languageId": "raw"
        }
      },
      "source": [
        "## 8. Análisis de Regresión Básico\n",
        "\n",
        "Vamos a crear un modelo simple para entender qué factores predicen mejor el GPA.\n"
      ]
    },
    {
      "cell_type": "markdown",
      "metadata": {
        "vscode": {
          "languageId": "raw"
        }
      },
      "source": [
        "<div class=\"alert alert-success\">\n",
        "    <b>Ejercicio 8</b>:\n",
        "     <ul>\n",
        "    <li>Crear un gráfico de dispersión entre Study_Hours_Per_Day y GPA</li>\n",
        "    <li>Agregar una línea de tendencia al gráfico</li>\n",
        "    <li>Calcular el coeficiente de correlación entre estas variables</li>\n",
        "    </ul>\n",
        "    <br>\n",
        "    <i>Tips</i>:\n",
        "    <ul>\n",
        "    <li><i>Usar sns.regplot() para gráfico con línea de tendencia</i></li>\n",
        "    <li><i>Usar .corr() para calcular correlación</i></li>\n",
        "    </ul>\n",
        "</div>\n"
      ]
    },
    {
      "cell_type": "code",
      "execution_count": null,
      "metadata": {},
      "outputs": [],
      "source": [
        "# Gráfico de dispersión con línea de tendencia\n",
        "plt.figure(figsize=(10, 6))\n",
        "sns.regplot(data=df, x='...', y='...', scatter_kws={'alpha':0.6})\n",
        "plt.title('...')\n",
        "plt.xlabel('...')\n",
        "plt.ylabel('...')\n",
        "\n",
        "# Calcular correlación\n",
        "correlation = df['Study_Hours_Per_Day'].corr(df['...'])\n",
        "plt.text(0.05, 0.95, f'Correlación: {correlation:.3f}', transform=plt.gca().transAxes, \n",
        "         bbox=dict(boxstyle='round', facecolor='white', alpha=0.8))\n",
        "\n",
        "plt.show()\n"
      ]
    },
    {
      "cell_type": "markdown",
      "metadata": {},
      "source": [
        "## 8. Análisis de Regresión Básico\n",
        "\n",
        "Vamos a crear un modelo simple para entender qué factores predicen mejor el GPA.\n"
      ]
    },
    {
      "cell_type": "markdown",
      "metadata": {},
      "source": [
        "<div class=\"alert alert-success\">\n",
        "    <b>Ejercicio 8</b>:\n",
        "     <ul>\n",
        "    <li>Crear un gráfico de dispersión entre Study_Hours_Per_Day y GPA</li>\n",
        "    <li>Agregar una línea de tendencia al gráfico</li>\n",
        "    <li>Calcular el coeficiente de correlación entre estas variables</li>\n",
        "    </ul>\n",
        "    <br>\n",
        "    <i>Tips</i>:\n",
        "    <ul>\n",
        "    <li><i>Usar sns.regplot() para gráfico con línea de tendencia</i></li>\n",
        "    <li><i>Usar .corr() para calcular correlación</i></li>\n",
        "    </ul>\n",
        "</div>\n"
      ]
    },
    {
      "cell_type": "code",
      "execution_count": null,
      "metadata": {},
      "outputs": [],
      "source": [
        "# Gráfico de dispersión con línea de tendencia\n",
        "plt.figure(figsize=(10, 6))\n",
        "sns.regplot(data=df, x='...', y='...', scatter_kws={'alpha':0.6})\n",
        "plt.title('...')\n",
        "plt.xlabel('...')\n",
        "plt.ylabel('...')\n",
        "\n",
        "# Calcular correlación\n",
        "correlation = df['Study_Hours_Per_Day'].corr(df['...'])\n",
        "plt.text(0.05, 0.95, f'Correlación: {correlation:.3f}', transform=plt.gca().transAxes, \n",
        "         bbox=dict(boxstyle='round', facecolor='white', alpha=0.8))\n",
        "\n",
        "plt.show()\n"
      ]
    },
    {
      "cell_type": "markdown",
      "metadata": {
        "vscode": {
          "languageId": "raw"
        }
      },
      "source": [
        "## 9. Modelo Predictivo: ¿Qué factores predicen mejor el estrés?\n",
        "\n",
        "Ahora vamos a crear un modelo de regresión para predecir el nivel de estrés basándonos en las variables de estilo de vida. Esto nos permitirá identificar cuáles son los factores más importantes para predecir el estrés en estudiantes.\n",
        "\n",
        "### 9.1 Preparar los datos para el modelo\n",
        "\n",
        "Primero necesitamos convertir la variable categórica 'Stress_Level' en una variable numérica para poder usarla en la regresión.\n",
        "\n",
        "<div class=\"alert alert-success\">\n",
        "    <b>Ejercicio 9</b>:\n",
        "     <ul>\n",
        "    <li>Crear una nueva variable numérica llamada 'Stress_Score'</li>\n",
        "    <li>Asignar valores: Low=1, Moderate=2, High=3</li>\n",
        "    </ul>\n",
        "    <br>\n",
        "    <i>Tips</i>:\n",
        "    <ul>\n",
        "    <li><i>Usar .map() para convertir categorías a números</i></li>\n",
        "    <li><i>Crear un diccionario: {'Low': 1, 'Moderate': 2, 'High': 3}</i></li>\n",
        "    </ul>\n",
        "</div>\n"
      ]
    },
    {
      "cell_type": "code",
      "execution_count": null,
      "metadata": {},
      "outputs": [],
      "source": [
        "# Crear variable numérica para el nivel de estrés\n",
        "stress_mapping = {'Low': 1, 'Moderate': 2, 'High': 3}\n",
        "df['Stress_Score'] = df['Stress_Level'].map(...)\n",
        "\n",
        "# Verificar la conversión\n",
        "print(\"Conversión de Stress_Level a Stress_Score:\")\n",
        "print(df[['Stress_Level', 'Stress_Score']].head(10))\n"
      ]
    },
    {
      "cell_type": "markdown",
      "metadata": {
        "vscode": {
          "languageId": "raw"
        }
      },
      "source": [
        "### 9.2 Modelo de Regresión Múltiple\n",
        "\n",
        "Ahora vamos a crear un modelo que use todas las variables de estilo de vida para predecir el nivel de estrés.\n",
        "\n",
        "<div class=\"alert alert-success\">\n",
        "    <b>Ejercicio 10</b>:\n",
        "     <ul>\n",
        "    <li>Crear un modelo de regresión múltiple usando todas las variables de estilo de vida como predictores</li>\n",
        "    <li>La variable dependiente será 'Stress_Score'</li>\n",
        "    <li>Interpretar qué variables son los mejores predictores</li>\n",
        "    </ul>\n",
        "    <br>\n",
        "    <i>Tips</i>:\n",
        "    <ul>\n",
        "    <li><i>Usar ols() de statsmodels</i></li>\n",
        "    <li><i>La fórmula debe incluir todas las variables: \"Stress_Score ~ Study_Hours_Per_Day + Sleep_Hours_Per_Day + Physical_Activity_Hours_Per_Day + Social_Hours_Per_Day + Extracurricular_Hours_Per_Day + GPA\"</i></li>\n",
        "    <li><i>Observar los valores p y coeficientes para identificar predictores significativos</i></li>\n",
        "    </ul>\n",
        "</div>\n"
      ]
    },
    {
      "cell_type": "code",
      "execution_count": null,
      "metadata": {},
      "outputs": [],
      "source": [
        "# Crear modelo de regresión múltiple para predecir estrés\n",
        "formula = ...\n",
        "stress_model = ols(..., data=df).fit()\n",
        "\n",
        "# Mostrar resumen del modelo\n",
        "print(\"=== MODELO PREDICTIVO DE ESTRÉS ===\")\n",
        "print(stress_model.summary())\n"
      ]
    },
    {
      "cell_type": "markdown",
      "metadata": {},
      "source": [
        "# 10. ¿Qué errores cometimos? \n",
        "\n",
        "Analizar que errores cometimos al correr la regresión de recién. Está bien lo que hicimos?\n",
        "\n",
        "<div class=\"alert alert-success\">\n",
        "    <b>Ejercicio 11 - Reflexión sobre regresión A</b>:\n",
        "     <ul>\n",
        "    <li>Es correcto el modelo que utilizamos? No? Por qué? Cuál deberiamos usar?</li>\n",
        "    </ul>\n",
        "</div>\n"
      ]
    },
    {
      "cell_type": "code",
      "execution_count": null,
      "metadata": {},
      "outputs": [
        {
          "name": "stdout",
          "output_type": "stream",
          "text": [
            "Optimization terminated successfully.\n",
            "         Current function value: 0.471995\n",
            "         Iterations: 26\n",
            "         Function evaluations: 27\n",
            "         Gradient evaluations: 27\n",
            "=== REGRESIÓN ORDINAL (STATSMODELS) ===\n",
            "                             OrderedModel Results                             \n",
            "==============================================================================\n",
            "Dep. Variable:           Stress_Level   Log-Likelihood:                -943.99\n",
            "Model:                   OrderedModel   AIC:                             1904.\n",
            "Method:            Maximum Likelihood   BIC:                             1949.\n",
            "Date:                Sat, 02 Aug 2025                                         \n",
            "Time:                        13:18:59                                         \n",
            "No. Observations:                2000                                         \n",
            "Df Residuals:                    1992                                         \n",
            "Df Model:                           6                                         \n",
            "===================================================================================================\n",
            "                                      coef    std err          z      P>|z|      [0.025      0.975]\n",
            "---------------------------------------------------------------------------------------------------\n",
            "Study_Hours_Per_Day                 2.0707    101.071      0.020      0.984    -196.025     200.167\n",
            "Sleep_Hours_Per_Day                -1.2769    101.071     -0.013      0.990    -199.373     196.820\n",
            "Physical_Activity_Hours_Per_Day    -0.2982    101.071     -0.003      0.998    -198.395     197.798\n",
            "Social_Hours_Per_Day               -0.2813    101.071     -0.003      0.998    -198.378     197.815\n",
            "Extracurricular_Hours_Per_Day      -0.3460    101.071     -0.003      0.997    -198.442     197.750\n",
            "GPA                                -0.1643      0.293     -0.561      0.575      -0.738       0.409\n",
            "0/1                                -1.7409   2425.715     -0.001      0.999   -4756.056    4752.574\n",
            "1/2                                 1.4569      0.039     37.030      0.000       1.380       1.534\n",
            "===================================================================================================\n"
          ]
        }
      ],
      "source": [
        "from statsmodels.miscmodels.ordinal_model import OrderedModel\n",
        "\n",
        "# Preparar datos\n",
        "X = df[['Study_Hours_Per_Day', 'Sleep_Hours_Per_Day', \n",
        "        'Physical_Activity_Hours_Per_Day', 'Social_Hours_Per_Day', \n",
        "        'Extracurricular_Hours_Per_Day', 'GPA']]\n",
        "\n",
        "# CORRECCIÓN: Convertir categorías a números\n",
        "# OrderedModel necesita valores numéricos enteros consecutivos empezando en 0\n",
        "stress_mapping = {'Low': 0, 'Moderate': 1, 'High': 2}\n",
        "y = df['Stress_Level'].map(stress_mapping)\n",
        "\n",
        "# Modelo ordinal\n",
        "model = OrderedModel(y, X, distr='logit', hasconst=False)\n",
        "result = model.fit(method='bfgs')\n",
        "\n",
        "print(\"=== REGRESIÓN ORDINAL (STATSMODELS) ===\")\n",
        "print(result.summary())"
      ]
    },
    {
      "cell_type": "markdown",
      "metadata": {},
      "source": [
        "<div class=\"alert alert-success\">\n",
        "    <b>Ejercicio 11 - Reflexión sobre regresión B</b>:\n",
        "     <ul>\n",
        "    <li>Y la multicolinealidad?</li>\n",
        "    </ul>\n",
        "</div>\n"
      ]
    },
    {
      "cell_type": "code",
      "execution_count": null,
      "metadata": {},
      "outputs": [
        {
          "name": "stdout",
          "output_type": "stream",
          "text": [
            "Optimization terminated successfully.\n",
            "         Current function value: 0.472125\n",
            "         Iterations: 27\n",
            "         Function evaluations: 29\n",
            "         Gradient evaluations: 29\n",
            "=== MODELO SIN MULTICOLINEALIDAD ===\n",
            "                             OrderedModel Results                             \n",
            "==============================================================================\n",
            "Dep. Variable:           Stress_Level   Log-Likelihood:                -944.25\n",
            "Model:                   OrderedModel   AIC:                             1899.\n",
            "Method:            Maximum Likelihood   BIC:                             1927.\n",
            "Date:                Sat, 02 Aug 2025                                         \n",
            "Time:                        13:20:07                                         \n",
            "No. Observations:                2000                                         \n",
            "Df Residuals:                    1995                                         \n",
            "Df Model:                           3                                         \n",
            "=================================================================================================\n",
            "                                    coef    std err          z      P>|z|      [0.025      0.975]\n",
            "-------------------------------------------------------------------------------------------------\n",
            "Study_Hours_Per_Day               2.3383      0.084     27.907      0.000       2.174       2.503\n",
            "Sleep_Hours_Per_Day              -0.9793      0.053    -18.647      0.000      -1.082      -0.876\n",
            "Extracurricular_Hours_Per_Day    -0.0492      0.051     -0.959      0.338      -0.150       0.051\n",
            "0/1                               5.6505      0.474     11.909      0.000       4.721       6.580\n",
            "1/2                               1.4563      0.039     37.030      0.000       1.379       1.533\n",
            "=================================================================================================\n"
          ]
        }
      ],
      "source": [
        "# SOLUCIÓN RÁPIDA: Eliminar variables con alta correlación\n",
        "# Vemos que Study_Hours y GPA tienen correlación 0.73 (muy alta)\n",
        "# Physical activity esta relativamente correlacionada con todas\n",
        "# Eliminamos GPA y physicail activity\n",
        "\n",
        "X_simple = df[['Study_Hours_Per_Day', 'Sleep_Hours_Per_Day', \n",
        "              'Extracurricular_Hours_Per_Day']]  # Solo 3 variables clave\n",
        "\n",
        "# Modelo ordinal sin multicolinealidad\n",
        "model_simple = OrderedModel(y, X_simple, distr='logit', hasconst=False)\n",
        "result_simple = model_simple.fit(method='bfgs')\n",
        "\n",
        "print(\"=== MODELO SIN MULTICOLINEALIDAD ===\")\n",
        "print(result_simple.summary())"
      ]
    },
    {
      "cell_type": "markdown",
      "metadata": {
        "vscode": {
          "languageId": "raw"
        }
      },
      "source": [
        "## 11. Reflexión Final\n",
        "\n",
        "<div class=\"alert alert-success\">\n",
        "    <b>Ejercicio 12 - Reflexión</b>:\n",
        "     <ul>\n",
        "    <li>Basándose en los análisis realizados, escriba 3 conclusiones principales sobre la relación entre estilo de vida y estrés en estudiantes</li>\n",
        "    <li>¿Qué variables son los mejores predictores de estrés según el modelo de regresión?</li>\n",
        "    <li>¿Qué recomendaciones darían a estudiantes con alto estrés basándose en los resultados del modelo?</li>\n",
        "    </ul>\n",
        "</div>\n"
      ]
    },
    {
      "cell_type": "markdown",
      "metadata": {
        "vscode": {
          "languageId": "raw"
        }
      },
      "source": [
        "### Escriba sus conclusiones aquí:\n",
        "\n",
        "**1. Conclusión 1:**\n",
        "[Su respuesta]\n",
        "\n",
        "**2. Conclusión 2:**\n",
        "[Su respuesta]\n",
        "\n",
        "**3. Conclusión 3:**\n",
        "[Su respuesta]\n",
        "\n",
        "**Mejores predictores de estrés según el modelo:**\n",
        "[Su respuesta]\n",
        "\n",
        "**Recomendaciones para estudiantes con alto estrés (basadas en el modelo):**\n",
        "[Su respuesta]\n"
      ]
    },
    {
      "cell_type": "markdown",
      "metadata": {
        "vscode": {
          "languageId": "raw"
        }
      },
      "source": [
        "---\n",
        "\n",
        "## ¡Felicitaciones! 🎉\n",
        "\n",
        "Han completado su primer análisis completo de data science. Durante esta clase práctica han:\n",
        "\n",
        "✅ Cargado y explorado un dataset real  \n",
        "✅ Realizado análisis descriptivo completo  \n",
        "✅ Creado visualizaciones informativas  \n",
        "✅ Analizado correlaciones entre variables  \n",
        "✅ Aplicado pruebas estadísticas  \n",
        "✅ Construido modelos predictivos con regresión múltiple  \n",
        "✅ Identificado los principales predictores de estrés  \n",
        "✅ Extraído conclusiones basadas en evidencia  \n",
        "\n",
        "Estos son los fundamentos que necesitan para cualquier proyecto de data science en psicología y neurociencias.\n",
        "\n",
        "**¡Sigan practicando y explorando!** 🧠📊\n"
      ]
    }
  ],
  "metadata": {
    "kernelspec": {
      "display_name": "base",
      "language": "python",
      "name": "python3"
    },
    "language_info": {
      "codemirror_mode": {
        "name": "ipython",
        "version": 3
      },
      "file_extension": ".py",
      "mimetype": "text/x-python",
      "name": "python",
      "nbconvert_exporter": "python",
      "pygments_lexer": "ipython3",
      "version": "3.12.2"
    }
  },
  "nbformat": 4,
  "nbformat_minor": 2
}
